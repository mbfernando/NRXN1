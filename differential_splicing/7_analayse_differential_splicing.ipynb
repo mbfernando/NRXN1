{
 "cells": [
  {
   "cell_type": "markdown",
   "id": "e1f94aa1-62e4-4ddc-bba9-ab6ddf229da3",
   "metadata": {},
   "source": [
    "# *NRXN1* splicing analysis\n",
    "## Alex Tokolyi, 2024-04-01"
   ]
  },
  {
   "cell_type": "markdown",
   "id": "d029baf1-9ea9-41b8-be2d-efb83e5f0d51",
   "metadata": {},
   "source": [
    "## Differential splicing results for *NRXN[1-3]*"
   ]
  },
  {
   "cell_type": "code",
   "execution_count": 5,
   "id": "d2bedae5-0474-4b9b-8cc5-50352d2ceb19",
   "metadata": {},
   "outputs": [],
   "source": [
    "get_sig1 = function(experiment) {\n",
    "    sig = read.table(paste0(\"/gpfs/commons/home/atokolyi/projects/nrxn1/merged/5_differential_splicing_r/\",experiment,\"/leafcutter_ds_cluster_significance.txt\"),\n",
    "                     header=TRUE,sep=\"\\t\")\n",
    "    sig = sig[which(sig$status==\"Success\"),]\n",
    "    sig = sig[grep(\"NRXN1\",sig$genes),]\n",
    "    sig = sig[order(sig$p),]\n",
    "    sig$p.adjust = p.adjust(sig$p,method=\"bonferroni\")\n",
    "    sig$sig_bonf = sig$p.adjust<0.05\n",
    "    rownames(sig) = str_replace(sig$cluster,\"chr.*:\",\"\")\n",
    "    return(sig)\n",
    "}"
   ]
  },
  {
   "cell_type": "code",
   "execution_count": 6,
   "id": "522e8012-7501-4f49-83b7-e1b08f8de66c",
   "metadata": {},
   "outputs": [],
   "source": [
    "get_sig23 = function(experiment) {\n",
    "    sig = read.table(paste0(\"/gpfs/commons/home/atokolyi/projects/nrxn1/merged/5_differential_splicing_r/\",experiment,\"/leafcutter_ds_cluster_significance.txt\"),\n",
    "                     header=TRUE,sep=\"\\t\")\n",
    "    sig = sig[which(sig$status==\"Success\"),]\n",
    "    sig = sig[which(grepl(\"NRXN2\",sig$genes) | grepl(\"NRXN3\",sig$genes)),]\n",
    "    sig = sig[order(sig$p),]\n",
    "    sig$p.adjust = p.adjust(sig$p,method=\"bonferroni\")\n",
    "    sig$sig_bonf = sig$p.adjust<0.05\n",
    "    rownames(sig) = str_replace(sig$cluster,\"chr.*:\",\"\")\n",
    "    return(sig)\n",
    "}"
   ]
  },
  {
   "cell_type": "code",
   "execution_count": 7,
   "id": "22ae00b5-8472-456d-9fdf-ab8ba126b4c6",
   "metadata": {},
   "outputs": [],
   "source": [
    "get_eff = function(experiment,sig) {\n",
    "    eff = read.table(paste0(\"/gpfs/commons/home/atokolyi/projects/nrxn1/merged/5_differential_splicing_r/\",experiment,\"/leafcutter_ds_effect_sizes.txt\"),\n",
    "                 header=TRUE,sep=\"\\t\",check.names=FALSE)\n",
    "    eff$clu = str_replace(eff$intron,\".*clu\",\"clu\")\n",
    "    eff = eff[which(eff$clu %in% rownames(sig)),]\n",
    "    eff = eff[order(abs(eff$deltapsi),decreasing=TRUE),]\n",
    "    eff$clu_p.adjust = sig[eff$clu,]$p.adjust\n",
    "    eff$clu_sig_bonf = sig[eff$clu,]$sig_bonf\n",
    "    return(eff)\n",
    "}"
   ]
  },
  {
   "cell_type": "markdown",
   "id": "6bac8f3f-0a04-475c-a526-1c4d723f3ba1",
   "metadata": {},
   "source": [
    "### 1) iGLUT: Control v. 5'Del"
   ]
  },
  {
   "cell_type": "code",
   "execution_count": 20,
   "id": "e0c4fc24-47ab-42d5-9d95-fd02c7c24d72",
   "metadata": {},
   "outputs": [
    {
     "name": "stdout",
     "output_type": "stream",
     "text": [
      " === Experiment: 1_iglut_ctrl_5del ===\n",
      "Significantly differentially spliced clusters [NRXN1]:\n"
     ]
    },
    {
     "data": {
      "text/html": [
       "<table class=\"dataframe\">\n",
       "<caption>A data.frame: 1 × 8</caption>\n",
       "<thead>\n",
       "\t<tr><th></th><th scope=col>cluster</th><th scope=col>status</th><th scope=col>loglr</th><th scope=col>df</th><th scope=col>p</th><th scope=col>p.adjust</th><th scope=col>genes</th><th scope=col>sig_bonf</th></tr>\n",
       "\t<tr><th></th><th scope=col>&lt;chr&gt;</th><th scope=col>&lt;chr&gt;</th><th scope=col>&lt;dbl&gt;</th><th scope=col>&lt;int&gt;</th><th scope=col>&lt;dbl&gt;</th><th scope=col>&lt;dbl&gt;</th><th scope=col>&lt;chr&gt;</th><th scope=col>&lt;lgl&gt;</th></tr>\n",
       "</thead>\n",
       "<tbody>\n",
       "\t<tr><th scope=row>clu_17084_-</th><td>chr2:clu_17084_-</td><td>Success</td><td>13.42242</td><td>8</td><td>0.0007519405</td><td>0.006015524</td><td>NRXN1</td><td>TRUE</td></tr>\n",
       "</tbody>\n",
       "</table>\n"
      ],
      "text/latex": [
       "A data.frame: 1 × 8\n",
       "\\begin{tabular}{r|llllllll}\n",
       "  & cluster & status & loglr & df & p & p.adjust & genes & sig\\_bonf\\\\\n",
       "  & <chr> & <chr> & <dbl> & <int> & <dbl> & <dbl> & <chr> & <lgl>\\\\\n",
       "\\hline\n",
       "\tclu\\_17084\\_- & chr2:clu\\_17084\\_- & Success & 13.42242 & 8 & 0.0007519405 & 0.006015524 & NRXN1 & TRUE\\\\\n",
       "\\end{tabular}\n"
      ],
      "text/markdown": [
       "\n",
       "A data.frame: 1 × 8\n",
       "\n",
       "| <!--/--> | cluster &lt;chr&gt; | status &lt;chr&gt; | loglr &lt;dbl&gt; | df &lt;int&gt; | p &lt;dbl&gt; | p.adjust &lt;dbl&gt; | genes &lt;chr&gt; | sig_bonf &lt;lgl&gt; |\n",
       "|---|---|---|---|---|---|---|---|---|\n",
       "| clu_17084_- | chr2:clu_17084_- | Success | 13.42242 | 8 | 0.0007519405 | 0.006015524 | NRXN1 | TRUE |\n",
       "\n"
      ],
      "text/plain": [
       "            cluster          status  loglr    df p            p.adjust    genes\n",
       "clu_17084_- chr2:clu_17084_- Success 13.42242 8  0.0007519405 0.006015524 NRXN1\n",
       "            sig_bonf\n",
       "clu_17084_- TRUE    "
      ]
     },
     "metadata": {},
     "output_type": "display_data"
    },
    {
     "name": "stdout",
     "output_type": "stream",
     "text": [
      "\n",
      "Top introns in the most significant cluster:\n"
     ]
    },
    {
     "data": {
      "text/html": [
       "<table class=\"dataframe\">\n",
       "<caption>A data.frame: 3 × 8</caption>\n",
       "<thead>\n",
       "\t<tr><th></th><th scope=col>intron</th><th scope=col>logef</th><th scope=col>Control</th><th scope=col>5Del</th><th scope=col>deltapsi</th><th scope=col>clu</th><th scope=col>clu_p.adjust</th><th scope=col>clu_sig_bonf</th></tr>\n",
       "\t<tr><th></th><th scope=col>&lt;chr&gt;</th><th scope=col>&lt;dbl&gt;</th><th scope=col>&lt;dbl&gt;</th><th scope=col>&lt;dbl&gt;</th><th scope=col>&lt;dbl&gt;</th><th scope=col>&lt;chr&gt;</th><th scope=col>&lt;dbl&gt;</th><th scope=col>&lt;lgl&gt;</th></tr>\n",
       "</thead>\n",
       "<tbody>\n",
       "\t<tr><th scope=row>54849</th><td>chr2:50053590:50054955:clu_17084_-</td><td>-0.49058519</td><td>0.2145526</td><td>0.1681607</td><td>-0.04639193</td><td>clu_17084_-</td><td>0.006015524</td><td>TRUE</td></tr>\n",
       "\t<tr><th scope=row>54851</th><td>chr2:50055044:50091323:clu_17084_-</td><td>-0.49345169</td><td>0.2089753</td><td>0.1633205</td><td>-0.04565480</td><td>clu_17084_-</td><td>0.006015524</td><td>TRUE</td></tr>\n",
       "\t<tr><th scope=row>54843</th><td>chr2:49922251:49943704:clu_17084_-</td><td> 0.03259589</td><td>0.1112437</td><td>0.1471231</td><td> 0.03587937</td><td>clu_17084_-</td><td>0.006015524</td><td>TRUE</td></tr>\n",
       "</tbody>\n",
       "</table>\n"
      ],
      "text/latex": [
       "A data.frame: 3 × 8\n",
       "\\begin{tabular}{r|llllllll}\n",
       "  & intron & logef & Control & 5Del & deltapsi & clu & clu\\_p.adjust & clu\\_sig\\_bonf\\\\\n",
       "  & <chr> & <dbl> & <dbl> & <dbl> & <dbl> & <chr> & <dbl> & <lgl>\\\\\n",
       "\\hline\n",
       "\t54849 & chr2:50053590:50054955:clu\\_17084\\_- & -0.49058519 & 0.2145526 & 0.1681607 & -0.04639193 & clu\\_17084\\_- & 0.006015524 & TRUE\\\\\n",
       "\t54851 & chr2:50055044:50091323:clu\\_17084\\_- & -0.49345169 & 0.2089753 & 0.1633205 & -0.04565480 & clu\\_17084\\_- & 0.006015524 & TRUE\\\\\n",
       "\t54843 & chr2:49922251:49943704:clu\\_17084\\_- &  0.03259589 & 0.1112437 & 0.1471231 &  0.03587937 & clu\\_17084\\_- & 0.006015524 & TRUE\\\\\n",
       "\\end{tabular}\n"
      ],
      "text/markdown": [
       "\n",
       "A data.frame: 3 × 8\n",
       "\n",
       "| <!--/--> | intron &lt;chr&gt; | logef &lt;dbl&gt; | Control &lt;dbl&gt; | 5Del &lt;dbl&gt; | deltapsi &lt;dbl&gt; | clu &lt;chr&gt; | clu_p.adjust &lt;dbl&gt; | clu_sig_bonf &lt;lgl&gt; |\n",
       "|---|---|---|---|---|---|---|---|---|\n",
       "| 54849 | chr2:50053590:50054955:clu_17084_- | -0.49058519 | 0.2145526 | 0.1681607 | -0.04639193 | clu_17084_- | 0.006015524 | TRUE |\n",
       "| 54851 | chr2:50055044:50091323:clu_17084_- | -0.49345169 | 0.2089753 | 0.1633205 | -0.04565480 | clu_17084_- | 0.006015524 | TRUE |\n",
       "| 54843 | chr2:49922251:49943704:clu_17084_- |  0.03259589 | 0.1112437 | 0.1471231 |  0.03587937 | clu_17084_- | 0.006015524 | TRUE |\n",
       "\n"
      ],
      "text/plain": [
       "      intron                             logef       Control   5Del     \n",
       "54849 chr2:50053590:50054955:clu_17084_- -0.49058519 0.2145526 0.1681607\n",
       "54851 chr2:50055044:50091323:clu_17084_- -0.49345169 0.2089753 0.1633205\n",
       "54843 chr2:49922251:49943704:clu_17084_-  0.03259589 0.1112437 0.1471231\n",
       "      deltapsi    clu         clu_p.adjust clu_sig_bonf\n",
       "54849 -0.04639193 clu_17084_- 0.006015524  TRUE        \n",
       "54851 -0.04565480 clu_17084_- 0.006015524  TRUE        \n",
       "54843  0.03587937 clu_17084_- 0.006015524  TRUE        "
      ]
     },
     "metadata": {},
     "output_type": "display_data"
    },
    {
     "name": "stdout",
     "output_type": "stream",
     "text": [
      "Significantly differentially spliced clusters [NRXN2/3]:\n"
     ]
    },
    {
     "data": {
      "text/html": [
       "<table class=\"dataframe\">\n",
       "<caption>A data.frame: 2 × 8</caption>\n",
       "<thead>\n",
       "\t<tr><th></th><th scope=col>cluster</th><th scope=col>status</th><th scope=col>loglr</th><th scope=col>df</th><th scope=col>p</th><th scope=col>p.adjust</th><th scope=col>genes</th><th scope=col>sig_bonf</th></tr>\n",
       "\t<tr><th></th><th scope=col>&lt;chr&gt;</th><th scope=col>&lt;chr&gt;</th><th scope=col>&lt;dbl&gt;</th><th scope=col>&lt;int&gt;</th><th scope=col>&lt;dbl&gt;</th><th scope=col>&lt;dbl&gt;</th><th scope=col>&lt;chr&gt;</th><th scope=col>&lt;lgl&gt;</th></tr>\n",
       "</thead>\n",
       "<tbody>\n",
       "\t<tr><th scope=row>clu_5113_-</th><td>chr11:clu_5113_-</td><td>Success</td><td> 7.858644</td><td>3</td><td>0.001295808</td><td>0.02073292</td><td>NRXN2</td><td>TRUE</td></tr>\n",
       "\t<tr><th scope=row>clu_5114_-</th><td>chr11:clu_5114_-</td><td>Success</td><td>10.298304</td><td>6</td><td>0.002167150</td><td>0.03467440</td><td>NRXN2</td><td>TRUE</td></tr>\n",
       "</tbody>\n",
       "</table>\n"
      ],
      "text/latex": [
       "A data.frame: 2 × 8\n",
       "\\begin{tabular}{r|llllllll}\n",
       "  & cluster & status & loglr & df & p & p.adjust & genes & sig\\_bonf\\\\\n",
       "  & <chr> & <chr> & <dbl> & <int> & <dbl> & <dbl> & <chr> & <lgl>\\\\\n",
       "\\hline\n",
       "\tclu\\_5113\\_- & chr11:clu\\_5113\\_- & Success &  7.858644 & 3 & 0.001295808 & 0.02073292 & NRXN2 & TRUE\\\\\n",
       "\tclu\\_5114\\_- & chr11:clu\\_5114\\_- & Success & 10.298304 & 6 & 0.002167150 & 0.03467440 & NRXN2 & TRUE\\\\\n",
       "\\end{tabular}\n"
      ],
      "text/markdown": [
       "\n",
       "A data.frame: 2 × 8\n",
       "\n",
       "| <!--/--> | cluster &lt;chr&gt; | status &lt;chr&gt; | loglr &lt;dbl&gt; | df &lt;int&gt; | p &lt;dbl&gt; | p.adjust &lt;dbl&gt; | genes &lt;chr&gt; | sig_bonf &lt;lgl&gt; |\n",
       "|---|---|---|---|---|---|---|---|---|\n",
       "| clu_5113_- | chr11:clu_5113_- | Success |  7.858644 | 3 | 0.001295808 | 0.02073292 | NRXN2 | TRUE |\n",
       "| clu_5114_- | chr11:clu_5114_- | Success | 10.298304 | 6 | 0.002167150 | 0.03467440 | NRXN2 | TRUE |\n",
       "\n"
      ],
      "text/plain": [
       "           cluster          status  loglr     df p           p.adjust   genes\n",
       "clu_5113_- chr11:clu_5113_- Success  7.858644 3  0.001295808 0.02073292 NRXN2\n",
       "clu_5114_- chr11:clu_5114_- Success 10.298304 6  0.002167150 0.03467440 NRXN2\n",
       "           sig_bonf\n",
       "clu_5113_- TRUE    \n",
       "clu_5114_- TRUE    "
      ]
     },
     "metadata": {},
     "output_type": "display_data"
    }
   ],
   "source": [
    "experiment = \"1_iglut_ctrl_5del\"\n",
    "cat(paste0(\" === Experiment: \",experiment,\" ===\\n\"))\n",
    "cat(\"Significantly differentially spliced clusters [NRXN1]:\\n\")\n",
    "sig = get_sig1(experiment)\n",
    "sig[which(sig$sig_bonf),]\n",
    "eff = get_eff(experiment,sig)\n",
    "cat(\"\\nTop introns in the most significant cluster:\\n\")\n",
    "head(eff[which(eff$clu==rownames(sig)[1]),],3)\n",
    "write.table(sig,paste0(experiment,\"_nrxn_clusters.tsv\"),col.names=TRUE,row.names=TRUE,sep=\"\\t\",quote=FALSE)\n",
    "write.table(eff,paste0(experiment,\"_nrxn_introns.tsv\"),col.names=TRUE,row.names=FALSE,sep=\"\\t\",quote=FALSE)\n",
    "cat(\"Significantly differentially spliced clusters [NRXN2/3]:\\n\")\n",
    "sig = get_sig23(experiment)\n",
    "sig[which(sig$sig_bonf),]"
   ]
  },
  {
   "cell_type": "markdown",
   "id": "9ebdcc75-f570-45fb-aca2-4df861668133",
   "metadata": {},
   "source": [
    "### 2) iGLUT: Control v. 3'Del"
   ]
  },
  {
   "cell_type": "code",
   "execution_count": 21,
   "id": "09773251-b1da-478b-b295-fa93442c11b4",
   "metadata": {},
   "outputs": [
    {
     "name": "stdout",
     "output_type": "stream",
     "text": [
      " === Experiment: 2_iglut_ctrl_3del ===\n",
      "Significantly differentially spliced clusters [NRXN1]:\n"
     ]
    },
    {
     "data": {
      "text/html": [
       "<table class=\"dataframe\">\n",
       "<caption>A data.frame: 1 × 8</caption>\n",
       "<thead>\n",
       "\t<tr><th></th><th scope=col>cluster</th><th scope=col>status</th><th scope=col>loglr</th><th scope=col>df</th><th scope=col>p</th><th scope=col>p.adjust</th><th scope=col>genes</th><th scope=col>sig_bonf</th></tr>\n",
       "\t<tr><th></th><th scope=col>&lt;chr&gt;</th><th scope=col>&lt;chr&gt;</th><th scope=col>&lt;dbl&gt;</th><th scope=col>&lt;int&gt;</th><th scope=col>&lt;dbl&gt;</th><th scope=col>&lt;dbl&gt;</th><th scope=col>&lt;chr&gt;</th><th scope=col>&lt;lgl&gt;</th></tr>\n",
       "</thead>\n",
       "<tbody>\n",
       "\t<tr><th scope=row>clu_17084_-</th><td>chr2:clu_17084_-</td><td>Success</td><td>57.53013</td><td>9</td><td>1.366875e-20</td><td>1.0935e-19</td><td>NRXN1</td><td>TRUE</td></tr>\n",
       "</tbody>\n",
       "</table>\n"
      ],
      "text/latex": [
       "A data.frame: 1 × 8\n",
       "\\begin{tabular}{r|llllllll}\n",
       "  & cluster & status & loglr & df & p & p.adjust & genes & sig\\_bonf\\\\\n",
       "  & <chr> & <chr> & <dbl> & <int> & <dbl> & <dbl> & <chr> & <lgl>\\\\\n",
       "\\hline\n",
       "\tclu\\_17084\\_- & chr2:clu\\_17084\\_- & Success & 57.53013 & 9 & 1.366875e-20 & 1.0935e-19 & NRXN1 & TRUE\\\\\n",
       "\\end{tabular}\n"
      ],
      "text/markdown": [
       "\n",
       "A data.frame: 1 × 8\n",
       "\n",
       "| <!--/--> | cluster &lt;chr&gt; | status &lt;chr&gt; | loglr &lt;dbl&gt; | df &lt;int&gt; | p &lt;dbl&gt; | p.adjust &lt;dbl&gt; | genes &lt;chr&gt; | sig_bonf &lt;lgl&gt; |\n",
       "|---|---|---|---|---|---|---|---|---|\n",
       "| clu_17084_- | chr2:clu_17084_- | Success | 57.53013 | 9 | 1.366875e-20 | 1.0935e-19 | NRXN1 | TRUE |\n",
       "\n"
      ],
      "text/plain": [
       "            cluster          status  loglr    df p            p.adjust   genes\n",
       "clu_17084_- chr2:clu_17084_- Success 57.53013 9  1.366875e-20 1.0935e-19 NRXN1\n",
       "            sig_bonf\n",
       "clu_17084_- TRUE    "
      ]
     },
     "metadata": {},
     "output_type": "display_data"
    },
    {
     "name": "stdout",
     "output_type": "stream",
     "text": [
      "\n",
      "Top introns in the most significant cluster:\n"
     ]
    },
    {
     "data": {
      "text/html": [
       "<table class=\"dataframe\">\n",
       "<caption>A data.frame: 3 × 8</caption>\n",
       "<thead>\n",
       "\t<tr><th></th><th scope=col>intron</th><th scope=col>logef</th><th scope=col>Control</th><th scope=col>3Del</th><th scope=col>deltapsi</th><th scope=col>clu</th><th scope=col>clu_p.adjust</th><th scope=col>clu_sig_bonf</th></tr>\n",
       "\t<tr><th></th><th scope=col>&lt;chr&gt;</th><th scope=col>&lt;dbl&gt;</th><th scope=col>&lt;dbl&gt;</th><th scope=col>&lt;dbl&gt;</th><th scope=col>&lt;dbl&gt;</th><th scope=col>&lt;chr&gt;</th><th scope=col>&lt;dbl&gt;</th><th scope=col>&lt;lgl&gt;</th></tr>\n",
       "</thead>\n",
       "<tbody>\n",
       "\t<tr><th scope=row>54796</th><td>chr2:49922251:50091323:clu_17084_-</td><td> 6.3928326</td><td>0.0002414303</td><td>0.2267751</td><td> 0.22653366</td><td>clu_17084_-</td><td>1.0935e-19</td><td>TRUE</td></tr>\n",
       "\t<tr><th scope=row>54798</th><td>chr2:49943791:50053271:clu_17084_-</td><td>-0.7250237</td><td>0.2694294995</td><td>0.2051177</td><td>-0.06431184</td><td>clu_17084_-</td><td>1.0935e-19</td><td>TRUE</td></tr>\n",
       "\t<tr><th scope=row>54801</th><td>chr2:50053590:50054955:clu_17084_-</td><td>-0.7250237</td><td>0.2094043674</td><td>0.1594203</td><td>-0.04998406</td><td>clu_17084_-</td><td>1.0935e-19</td><td>TRUE</td></tr>\n",
       "</tbody>\n",
       "</table>\n"
      ],
      "text/latex": [
       "A data.frame: 3 × 8\n",
       "\\begin{tabular}{r|llllllll}\n",
       "  & intron & logef & Control & 3Del & deltapsi & clu & clu\\_p.adjust & clu\\_sig\\_bonf\\\\\n",
       "  & <chr> & <dbl> & <dbl> & <dbl> & <dbl> & <chr> & <dbl> & <lgl>\\\\\n",
       "\\hline\n",
       "\t54796 & chr2:49922251:50091323:clu\\_17084\\_- &  6.3928326 & 0.0002414303 & 0.2267751 &  0.22653366 & clu\\_17084\\_- & 1.0935e-19 & TRUE\\\\\n",
       "\t54798 & chr2:49943791:50053271:clu\\_17084\\_- & -0.7250237 & 0.2694294995 & 0.2051177 & -0.06431184 & clu\\_17084\\_- & 1.0935e-19 & TRUE\\\\\n",
       "\t54801 & chr2:50053590:50054955:clu\\_17084\\_- & -0.7250237 & 0.2094043674 & 0.1594203 & -0.04998406 & clu\\_17084\\_- & 1.0935e-19 & TRUE\\\\\n",
       "\\end{tabular}\n"
      ],
      "text/markdown": [
       "\n",
       "A data.frame: 3 × 8\n",
       "\n",
       "| <!--/--> | intron &lt;chr&gt; | logef &lt;dbl&gt; | Control &lt;dbl&gt; | 3Del &lt;dbl&gt; | deltapsi &lt;dbl&gt; | clu &lt;chr&gt; | clu_p.adjust &lt;dbl&gt; | clu_sig_bonf &lt;lgl&gt; |\n",
       "|---|---|---|---|---|---|---|---|---|\n",
       "| 54796 | chr2:49922251:50091323:clu_17084_- |  6.3928326 | 0.0002414303 | 0.2267751 |  0.22653366 | clu_17084_- | 1.0935e-19 | TRUE |\n",
       "| 54798 | chr2:49943791:50053271:clu_17084_- | -0.7250237 | 0.2694294995 | 0.2051177 | -0.06431184 | clu_17084_- | 1.0935e-19 | TRUE |\n",
       "| 54801 | chr2:50053590:50054955:clu_17084_- | -0.7250237 | 0.2094043674 | 0.1594203 | -0.04998406 | clu_17084_- | 1.0935e-19 | TRUE |\n",
       "\n"
      ],
      "text/plain": [
       "      intron                             logef      Control      3Del     \n",
       "54796 chr2:49922251:50091323:clu_17084_-  6.3928326 0.0002414303 0.2267751\n",
       "54798 chr2:49943791:50053271:clu_17084_- -0.7250237 0.2694294995 0.2051177\n",
       "54801 chr2:50053590:50054955:clu_17084_- -0.7250237 0.2094043674 0.1594203\n",
       "      deltapsi    clu         clu_p.adjust clu_sig_bonf\n",
       "54796  0.22653366 clu_17084_- 1.0935e-19   TRUE        \n",
       "54798 -0.06431184 clu_17084_- 1.0935e-19   TRUE        \n",
       "54801 -0.04998406 clu_17084_- 1.0935e-19   TRUE        "
      ]
     },
     "metadata": {},
     "output_type": "display_data"
    },
    {
     "name": "stdout",
     "output_type": "stream",
     "text": [
      "Significantly differentially spliced clusters [NRXN2/3]:\n"
     ]
    },
    {
     "data": {
      "text/html": [
       "<table class=\"dataframe\">\n",
       "<caption>A data.frame: 1 × 8</caption>\n",
       "<thead>\n",
       "\t<tr><th></th><th scope=col>cluster</th><th scope=col>status</th><th scope=col>loglr</th><th scope=col>df</th><th scope=col>p</th><th scope=col>p.adjust</th><th scope=col>genes</th><th scope=col>sig_bonf</th></tr>\n",
       "\t<tr><th></th><th scope=col>&lt;chr&gt;</th><th scope=col>&lt;chr&gt;</th><th scope=col>&lt;dbl&gt;</th><th scope=col>&lt;int&gt;</th><th scope=col>&lt;dbl&gt;</th><th scope=col>&lt;dbl&gt;</th><th scope=col>&lt;chr&gt;</th><th scope=col>&lt;lgl&gt;</th></tr>\n",
       "</thead>\n",
       "<tbody>\n",
       "\t<tr><th scope=row>clu_5114_-</th><td>chr11:clu_5114_-</td><td>Success</td><td>11.34751</td><td>6</td><td>0.0009053267</td><td>0.0135799</td><td>NRXN2</td><td>TRUE</td></tr>\n",
       "</tbody>\n",
       "</table>\n"
      ],
      "text/latex": [
       "A data.frame: 1 × 8\n",
       "\\begin{tabular}{r|llllllll}\n",
       "  & cluster & status & loglr & df & p & p.adjust & genes & sig\\_bonf\\\\\n",
       "  & <chr> & <chr> & <dbl> & <int> & <dbl> & <dbl> & <chr> & <lgl>\\\\\n",
       "\\hline\n",
       "\tclu\\_5114\\_- & chr11:clu\\_5114\\_- & Success & 11.34751 & 6 & 0.0009053267 & 0.0135799 & NRXN2 & TRUE\\\\\n",
       "\\end{tabular}\n"
      ],
      "text/markdown": [
       "\n",
       "A data.frame: 1 × 8\n",
       "\n",
       "| <!--/--> | cluster &lt;chr&gt; | status &lt;chr&gt; | loglr &lt;dbl&gt; | df &lt;int&gt; | p &lt;dbl&gt; | p.adjust &lt;dbl&gt; | genes &lt;chr&gt; | sig_bonf &lt;lgl&gt; |\n",
       "|---|---|---|---|---|---|---|---|---|\n",
       "| clu_5114_- | chr11:clu_5114_- | Success | 11.34751 | 6 | 0.0009053267 | 0.0135799 | NRXN2 | TRUE |\n",
       "\n"
      ],
      "text/plain": [
       "           cluster          status  loglr    df p            p.adjust  genes\n",
       "clu_5114_- chr11:clu_5114_- Success 11.34751 6  0.0009053267 0.0135799 NRXN2\n",
       "           sig_bonf\n",
       "clu_5114_- TRUE    "
      ]
     },
     "metadata": {},
     "output_type": "display_data"
    }
   ],
   "source": [
    "experiment = \"2_iglut_ctrl_3del\"\n",
    "cat(paste0(\" === Experiment: \",experiment,\" ===\\n\"))\n",
    "cat(\"Significantly differentially spliced clusters [NRXN1]:\\n\")\n",
    "sig = get_sig1(experiment)\n",
    "sig[which(sig$sig_bonf),]\n",
    "eff = get_eff(experiment,sig)\n",
    "cat(\"\\nTop introns in the most significant cluster:\\n\")\n",
    "head(eff[which(eff$clu==rownames(sig)[1]),],3)\n",
    "write.table(sig,paste0(experiment,\"_nrxn_clusters.tsv\"),col.names=TRUE,row.names=TRUE,sep=\"\\t\",quote=FALSE)\n",
    "write.table(eff,paste0(experiment,\"_nrxn_introns.tsv\"),col.names=TRUE,row.names=FALSE,sep=\"\\t\",quote=FALSE)\n",
    "cat(\"Significantly differentially spliced clusters [NRXN2/3]:\\n\")\n",
    "sig = get_sig23(experiment)\n",
    "sig[which(sig$sig_bonf),]"
   ]
  },
  {
   "cell_type": "markdown",
   "id": "11950494-e20f-4159-8782-45516561e2de",
   "metadata": {},
   "source": [
    "### 3) iGABA: Control v. 5'Del"
   ]
  },
  {
   "cell_type": "code",
   "execution_count": 22,
   "id": "d579ae56-ab47-46b2-be28-4539abaa751e",
   "metadata": {},
   "outputs": [
    {
     "name": "stdout",
     "output_type": "stream",
     "text": [
      " === Experiment: 3_igaba_ctrl_5del ===\n",
      "Significantly differentially spliced clusters [NRXN1]:\n"
     ]
    },
    {
     "data": {
      "text/html": [
       "<table class=\"dataframe\">\n",
       "<caption>A data.frame: 1 × 8</caption>\n",
       "<thead>\n",
       "\t<tr><th></th><th scope=col>cluster</th><th scope=col>status</th><th scope=col>loglr</th><th scope=col>df</th><th scope=col>p</th><th scope=col>p.adjust</th><th scope=col>genes</th><th scope=col>sig_bonf</th></tr>\n",
       "\t<tr><th></th><th scope=col>&lt;chr&gt;</th><th scope=col>&lt;chr&gt;</th><th scope=col>&lt;dbl&gt;</th><th scope=col>&lt;int&gt;</th><th scope=col>&lt;dbl&gt;</th><th scope=col>&lt;dbl&gt;</th><th scope=col>&lt;chr&gt;</th><th scope=col>&lt;lgl&gt;</th></tr>\n",
       "</thead>\n",
       "<tbody>\n",
       "\t<tr><th scope=row>clu_17085_-</th><td>chr2:clu_17085_-</td><td>Success</td><td>4.858704</td><td>1</td><td>0.001825307</td><td>0.01460245</td><td>NRXN1</td><td>TRUE</td></tr>\n",
       "</tbody>\n",
       "</table>\n"
      ],
      "text/latex": [
       "A data.frame: 1 × 8\n",
       "\\begin{tabular}{r|llllllll}\n",
       "  & cluster & status & loglr & df & p & p.adjust & genes & sig\\_bonf\\\\\n",
       "  & <chr> & <chr> & <dbl> & <int> & <dbl> & <dbl> & <chr> & <lgl>\\\\\n",
       "\\hline\n",
       "\tclu\\_17085\\_- & chr2:clu\\_17085\\_- & Success & 4.858704 & 1 & 0.001825307 & 0.01460245 & NRXN1 & TRUE\\\\\n",
       "\\end{tabular}\n"
      ],
      "text/markdown": [
       "\n",
       "A data.frame: 1 × 8\n",
       "\n",
       "| <!--/--> | cluster &lt;chr&gt; | status &lt;chr&gt; | loglr &lt;dbl&gt; | df &lt;int&gt; | p &lt;dbl&gt; | p.adjust &lt;dbl&gt; | genes &lt;chr&gt; | sig_bonf &lt;lgl&gt; |\n",
       "|---|---|---|---|---|---|---|---|---|\n",
       "| clu_17085_- | chr2:clu_17085_- | Success | 4.858704 | 1 | 0.001825307 | 0.01460245 | NRXN1 | TRUE |\n",
       "\n"
      ],
      "text/plain": [
       "            cluster          status  loglr    df p           p.adjust   genes\n",
       "clu_17085_- chr2:clu_17085_- Success 4.858704 1  0.001825307 0.01460245 NRXN1\n",
       "            sig_bonf\n",
       "clu_17085_- TRUE    "
      ]
     },
     "metadata": {},
     "output_type": "display_data"
    },
    {
     "name": "stdout",
     "output_type": "stream",
     "text": [
      "\n",
      "Top introns in the most significant cluster:\n"
     ]
    },
    {
     "data": {
      "text/html": [
       "<table class=\"dataframe\">\n",
       "<caption>A data.frame: 2 × 8</caption>\n",
       "<thead>\n",
       "\t<tr><th></th><th scope=col>intron</th><th scope=col>logef</th><th scope=col>Control</th><th scope=col>5Del</th><th scope=col>deltapsi</th><th scope=col>clu</th><th scope=col>clu_p.adjust</th><th scope=col>clu_sig_bonf</th></tr>\n",
       "\t<tr><th></th><th scope=col>&lt;chr&gt;</th><th scope=col>&lt;dbl&gt;</th><th scope=col>&lt;dbl&gt;</th><th scope=col>&lt;dbl&gt;</th><th scope=col>&lt;dbl&gt;</th><th scope=col>&lt;chr&gt;</th><th scope=col>&lt;dbl&gt;</th><th scope=col>&lt;lgl&gt;</th></tr>\n",
       "</thead>\n",
       "<tbody>\n",
       "\t<tr><th scope=row>57843</th><td>chr2:50236970:50346691:clu_17085_-</td><td> 0.3824028</td><td>0.4538937</td><td>0.6410341</td><td> 0.1871403</td><td>clu_17085_-</td><td>0.01460245</td><td>TRUE</td></tr>\n",
       "\t<tr><th scope=row>57844</th><td>chr2:50236970:50465442:clu_17085_-</td><td>-0.3824028</td><td>0.5461063</td><td>0.3589659</td><td>-0.1871403</td><td>clu_17085_-</td><td>0.01460245</td><td>TRUE</td></tr>\n",
       "</tbody>\n",
       "</table>\n"
      ],
      "text/latex": [
       "A data.frame: 2 × 8\n",
       "\\begin{tabular}{r|llllllll}\n",
       "  & intron & logef & Control & 5Del & deltapsi & clu & clu\\_p.adjust & clu\\_sig\\_bonf\\\\\n",
       "  & <chr> & <dbl> & <dbl> & <dbl> & <dbl> & <chr> & <dbl> & <lgl>\\\\\n",
       "\\hline\n",
       "\t57843 & chr2:50236970:50346691:clu\\_17085\\_- &  0.3824028 & 0.4538937 & 0.6410341 &  0.1871403 & clu\\_17085\\_- & 0.01460245 & TRUE\\\\\n",
       "\t57844 & chr2:50236970:50465442:clu\\_17085\\_- & -0.3824028 & 0.5461063 & 0.3589659 & -0.1871403 & clu\\_17085\\_- & 0.01460245 & TRUE\\\\\n",
       "\\end{tabular}\n"
      ],
      "text/markdown": [
       "\n",
       "A data.frame: 2 × 8\n",
       "\n",
       "| <!--/--> | intron &lt;chr&gt; | logef &lt;dbl&gt; | Control &lt;dbl&gt; | 5Del &lt;dbl&gt; | deltapsi &lt;dbl&gt; | clu &lt;chr&gt; | clu_p.adjust &lt;dbl&gt; | clu_sig_bonf &lt;lgl&gt; |\n",
       "|---|---|---|---|---|---|---|---|---|\n",
       "| 57843 | chr2:50236970:50346691:clu_17085_- |  0.3824028 | 0.4538937 | 0.6410341 |  0.1871403 | clu_17085_- | 0.01460245 | TRUE |\n",
       "| 57844 | chr2:50236970:50465442:clu_17085_- | -0.3824028 | 0.5461063 | 0.3589659 | -0.1871403 | clu_17085_- | 0.01460245 | TRUE |\n",
       "\n"
      ],
      "text/plain": [
       "      intron                             logef      Control   5Del     \n",
       "57843 chr2:50236970:50346691:clu_17085_-  0.3824028 0.4538937 0.6410341\n",
       "57844 chr2:50236970:50465442:clu_17085_- -0.3824028 0.5461063 0.3589659\n",
       "      deltapsi   clu         clu_p.adjust clu_sig_bonf\n",
       "57843  0.1871403 clu_17085_- 0.01460245   TRUE        \n",
       "57844 -0.1871403 clu_17085_- 0.01460245   TRUE        "
      ]
     },
     "metadata": {},
     "output_type": "display_data"
    },
    {
     "name": "stdout",
     "output_type": "stream",
     "text": [
      "Significantly differentially spliced clusters [NRXN2/3]:\n"
     ]
    },
    {
     "data": {
      "text/html": [
       "<table class=\"dataframe\">\n",
       "<caption>A data.frame: 1 × 8</caption>\n",
       "<thead>\n",
       "\t<tr><th></th><th scope=col>cluster</th><th scope=col>status</th><th scope=col>loglr</th><th scope=col>df</th><th scope=col>p</th><th scope=col>p.adjust</th><th scope=col>genes</th><th scope=col>sig_bonf</th></tr>\n",
       "\t<tr><th></th><th scope=col>&lt;chr&gt;</th><th scope=col>&lt;chr&gt;</th><th scope=col>&lt;dbl&gt;</th><th scope=col>&lt;int&gt;</th><th scope=col>&lt;dbl&gt;</th><th scope=col>&lt;dbl&gt;</th><th scope=col>&lt;chr&gt;</th><th scope=col>&lt;lgl&gt;</th></tr>\n",
       "</thead>\n",
       "<tbody>\n",
       "\t<tr><th scope=row>clu_5117_-</th><td>chr11:clu_5117_-</td><td>Success</td><td>5.533739</td><td>1</td><td>0.0008785508</td><td>0.01493536</td><td>NRXN2</td><td>TRUE</td></tr>\n",
       "</tbody>\n",
       "</table>\n"
      ],
      "text/latex": [
       "A data.frame: 1 × 8\n",
       "\\begin{tabular}{r|llllllll}\n",
       "  & cluster & status & loglr & df & p & p.adjust & genes & sig\\_bonf\\\\\n",
       "  & <chr> & <chr> & <dbl> & <int> & <dbl> & <dbl> & <chr> & <lgl>\\\\\n",
       "\\hline\n",
       "\tclu\\_5117\\_- & chr11:clu\\_5117\\_- & Success & 5.533739 & 1 & 0.0008785508 & 0.01493536 & NRXN2 & TRUE\\\\\n",
       "\\end{tabular}\n"
      ],
      "text/markdown": [
       "\n",
       "A data.frame: 1 × 8\n",
       "\n",
       "| <!--/--> | cluster &lt;chr&gt; | status &lt;chr&gt; | loglr &lt;dbl&gt; | df &lt;int&gt; | p &lt;dbl&gt; | p.adjust &lt;dbl&gt; | genes &lt;chr&gt; | sig_bonf &lt;lgl&gt; |\n",
       "|---|---|---|---|---|---|---|---|---|\n",
       "| clu_5117_- | chr11:clu_5117_- | Success | 5.533739 | 1 | 0.0008785508 | 0.01493536 | NRXN2 | TRUE |\n",
       "\n"
      ],
      "text/plain": [
       "           cluster          status  loglr    df p            p.adjust   genes\n",
       "clu_5117_- chr11:clu_5117_- Success 5.533739 1  0.0008785508 0.01493536 NRXN2\n",
       "           sig_bonf\n",
       "clu_5117_- TRUE    "
      ]
     },
     "metadata": {},
     "output_type": "display_data"
    }
   ],
   "source": [
    "experiment = \"3_igaba_ctrl_5del\"\n",
    "cat(paste0(\" === Experiment: \",experiment,\" ===\\n\"))\n",
    "cat(\"Significantly differentially spliced clusters [NRXN1]:\\n\")\n",
    "sig = get_sig1(experiment)\n",
    "sig[which(sig$sig_bonf),]\n",
    "eff = get_eff(experiment,sig)\n",
    "cat(\"\\nTop introns in the most significant cluster:\\n\")\n",
    "head(eff[which(eff$clu==rownames(sig)[1]),],3)\n",
    "write.table(sig,paste0(experiment,\"_nrxn_clusters.tsv\"),col.names=TRUE,row.names=TRUE,sep=\"\\t\",quote=FALSE)\n",
    "write.table(eff,paste0(experiment,\"_nrxn_introns.tsv\"),col.names=TRUE,row.names=FALSE,sep=\"\\t\",quote=FALSE)\n",
    "cat(\"Significantly differentially spliced clusters [NRXN2/3]:\\n\")\n",
    "sig = get_sig23(experiment)\n",
    "sig[which(sig$sig_bonf),]"
   ]
  },
  {
   "cell_type": "markdown",
   "id": "29fcf4fa-c464-4dbe-9d28-103e9a8129e0",
   "metadata": {},
   "source": [
    "### 4) iGABA: Control v. 3'Del"
   ]
  },
  {
   "cell_type": "code",
   "execution_count": 23,
   "id": "c24881ee-2a3a-4c94-a577-c5e30bc8e82c",
   "metadata": {},
   "outputs": [
    {
     "name": "stdout",
     "output_type": "stream",
     "text": [
      " === Experiment: 4_igaba_ctrl_3del ===\n",
      "Significantly differentially spliced clusters [NRXN1]:\n"
     ]
    },
    {
     "data": {
      "text/html": [
       "<table class=\"dataframe\">\n",
       "<caption>A data.frame: 1 × 8</caption>\n",
       "<thead>\n",
       "\t<tr><th></th><th scope=col>cluster</th><th scope=col>status</th><th scope=col>loglr</th><th scope=col>df</th><th scope=col>p</th><th scope=col>p.adjust</th><th scope=col>genes</th><th scope=col>sig_bonf</th></tr>\n",
       "\t<tr><th></th><th scope=col>&lt;chr&gt;</th><th scope=col>&lt;chr&gt;</th><th scope=col>&lt;dbl&gt;</th><th scope=col>&lt;int&gt;</th><th scope=col>&lt;dbl&gt;</th><th scope=col>&lt;dbl&gt;</th><th scope=col>&lt;chr&gt;</th><th scope=col>&lt;lgl&gt;</th></tr>\n",
       "</thead>\n",
       "<tbody>\n",
       "\t<tr><th scope=row>clu_17084_-</th><td>chr2:clu_17084_-</td><td>Success</td><td>65.41666</td><td>9</td><td>7.992231e-24</td><td>6.393785e-23</td><td>NRXN1</td><td>TRUE</td></tr>\n",
       "</tbody>\n",
       "</table>\n"
      ],
      "text/latex": [
       "A data.frame: 1 × 8\n",
       "\\begin{tabular}{r|llllllll}\n",
       "  & cluster & status & loglr & df & p & p.adjust & genes & sig\\_bonf\\\\\n",
       "  & <chr> & <chr> & <dbl> & <int> & <dbl> & <dbl> & <chr> & <lgl>\\\\\n",
       "\\hline\n",
       "\tclu\\_17084\\_- & chr2:clu\\_17084\\_- & Success & 65.41666 & 9 & 7.992231e-24 & 6.393785e-23 & NRXN1 & TRUE\\\\\n",
       "\\end{tabular}\n"
      ],
      "text/markdown": [
       "\n",
       "A data.frame: 1 × 8\n",
       "\n",
       "| <!--/--> | cluster &lt;chr&gt; | status &lt;chr&gt; | loglr &lt;dbl&gt; | df &lt;int&gt; | p &lt;dbl&gt; | p.adjust &lt;dbl&gt; | genes &lt;chr&gt; | sig_bonf &lt;lgl&gt; |\n",
       "|---|---|---|---|---|---|---|---|---|\n",
       "| clu_17084_- | chr2:clu_17084_- | Success | 65.41666 | 9 | 7.992231e-24 | 6.393785e-23 | NRXN1 | TRUE |\n",
       "\n"
      ],
      "text/plain": [
       "            cluster          status  loglr    df p            p.adjust    \n",
       "clu_17084_- chr2:clu_17084_- Success 65.41666 9  7.992231e-24 6.393785e-23\n",
       "            genes sig_bonf\n",
       "clu_17084_- NRXN1 TRUE    "
      ]
     },
     "metadata": {},
     "output_type": "display_data"
    },
    {
     "name": "stdout",
     "output_type": "stream",
     "text": [
      "\n",
      "Top introns in the most significant cluster:\n"
     ]
    },
    {
     "data": {
      "text/html": [
       "<table class=\"dataframe\">\n",
       "<caption>A data.frame: 3 × 8</caption>\n",
       "<thead>\n",
       "\t<tr><th></th><th scope=col>intron</th><th scope=col>logef</th><th scope=col>Control</th><th scope=col>3Del</th><th scope=col>deltapsi</th><th scope=col>clu</th><th scope=col>clu_p.adjust</th><th scope=col>clu_sig_bonf</th></tr>\n",
       "\t<tr><th></th><th scope=col>&lt;chr&gt;</th><th scope=col>&lt;dbl&gt;</th><th scope=col>&lt;dbl&gt;</th><th scope=col>&lt;dbl&gt;</th><th scope=col>&lt;dbl&gt;</th><th scope=col>&lt;chr&gt;</th><th scope=col>&lt;dbl&gt;</th><th scope=col>&lt;lgl&gt;</th></tr>\n",
       "</thead>\n",
       "<tbody>\n",
       "\t<tr><th scope=row>57587</th><td>chr2:49922251:50091323:clu_17084_-</td><td>20.080038</td><td>6.125709e-11</td><td>0.2300917</td><td> 0.23009173</td><td>clu_17084_-</td><td>6.393785e-23</td><td>TRUE</td></tr>\n",
       "\t<tr><th scope=row>57589</th><td>chr2:49943791:50053271:clu_17084_-</td><td>-2.243893</td><td>2.770365e-01</td><td>0.2099527</td><td>-0.06708384</td><td>clu_17084_-</td><td>6.393785e-23</td><td>TRUE</td></tr>\n",
       "\t<tr><th scope=row>57592</th><td>chr2:50053590:50054955:clu_17084_-</td><td>-2.243893</td><td>2.013724e-01</td><td>0.1526104</td><td>-0.04876191</td><td>clu_17084_-</td><td>6.393785e-23</td><td>TRUE</td></tr>\n",
       "</tbody>\n",
       "</table>\n"
      ],
      "text/latex": [
       "A data.frame: 3 × 8\n",
       "\\begin{tabular}{r|llllllll}\n",
       "  & intron & logef & Control & 3Del & deltapsi & clu & clu\\_p.adjust & clu\\_sig\\_bonf\\\\\n",
       "  & <chr> & <dbl> & <dbl> & <dbl> & <dbl> & <chr> & <dbl> & <lgl>\\\\\n",
       "\\hline\n",
       "\t57587 & chr2:49922251:50091323:clu\\_17084\\_- & 20.080038 & 6.125709e-11 & 0.2300917 &  0.23009173 & clu\\_17084\\_- & 6.393785e-23 & TRUE\\\\\n",
       "\t57589 & chr2:49943791:50053271:clu\\_17084\\_- & -2.243893 & 2.770365e-01 & 0.2099527 & -0.06708384 & clu\\_17084\\_- & 6.393785e-23 & TRUE\\\\\n",
       "\t57592 & chr2:50053590:50054955:clu\\_17084\\_- & -2.243893 & 2.013724e-01 & 0.1526104 & -0.04876191 & clu\\_17084\\_- & 6.393785e-23 & TRUE\\\\\n",
       "\\end{tabular}\n"
      ],
      "text/markdown": [
       "\n",
       "A data.frame: 3 × 8\n",
       "\n",
       "| <!--/--> | intron &lt;chr&gt; | logef &lt;dbl&gt; | Control &lt;dbl&gt; | 3Del &lt;dbl&gt; | deltapsi &lt;dbl&gt; | clu &lt;chr&gt; | clu_p.adjust &lt;dbl&gt; | clu_sig_bonf &lt;lgl&gt; |\n",
       "|---|---|---|---|---|---|---|---|---|\n",
       "| 57587 | chr2:49922251:50091323:clu_17084_- | 20.080038 | 6.125709e-11 | 0.2300917 |  0.23009173 | clu_17084_- | 6.393785e-23 | TRUE |\n",
       "| 57589 | chr2:49943791:50053271:clu_17084_- | -2.243893 | 2.770365e-01 | 0.2099527 | -0.06708384 | clu_17084_- | 6.393785e-23 | TRUE |\n",
       "| 57592 | chr2:50053590:50054955:clu_17084_- | -2.243893 | 2.013724e-01 | 0.1526104 | -0.04876191 | clu_17084_- | 6.393785e-23 | TRUE |\n",
       "\n"
      ],
      "text/plain": [
       "      intron                             logef     Control      3Del     \n",
       "57587 chr2:49922251:50091323:clu_17084_- 20.080038 6.125709e-11 0.2300917\n",
       "57589 chr2:49943791:50053271:clu_17084_- -2.243893 2.770365e-01 0.2099527\n",
       "57592 chr2:50053590:50054955:clu_17084_- -2.243893 2.013724e-01 0.1526104\n",
       "      deltapsi    clu         clu_p.adjust clu_sig_bonf\n",
       "57587  0.23009173 clu_17084_- 6.393785e-23 TRUE        \n",
       "57589 -0.06708384 clu_17084_- 6.393785e-23 TRUE        \n",
       "57592 -0.04876191 clu_17084_- 6.393785e-23 TRUE        "
      ]
     },
     "metadata": {},
     "output_type": "display_data"
    },
    {
     "name": "stdout",
     "output_type": "stream",
     "text": [
      "Significantly differentially spliced clusters [NRXN2/3]:\n"
     ]
    },
    {
     "data": {
      "text/html": [
       "<table class=\"dataframe\">\n",
       "<caption>A data.frame: 0 × 8</caption>\n",
       "<thead>\n",
       "\t<tr><th scope=col>cluster</th><th scope=col>status</th><th scope=col>loglr</th><th scope=col>df</th><th scope=col>p</th><th scope=col>p.adjust</th><th scope=col>genes</th><th scope=col>sig_bonf</th></tr>\n",
       "\t<tr><th scope=col>&lt;chr&gt;</th><th scope=col>&lt;chr&gt;</th><th scope=col>&lt;dbl&gt;</th><th scope=col>&lt;int&gt;</th><th scope=col>&lt;dbl&gt;</th><th scope=col>&lt;dbl&gt;</th><th scope=col>&lt;chr&gt;</th><th scope=col>&lt;lgl&gt;</th></tr>\n",
       "</thead>\n",
       "<tbody>\n",
       "</tbody>\n",
       "</table>\n"
      ],
      "text/latex": [
       "A data.frame: 0 × 8\n",
       "\\begin{tabular}{llllllll}\n",
       " cluster & status & loglr & df & p & p.adjust & genes & sig\\_bonf\\\\\n",
       " <chr> & <chr> & <dbl> & <int> & <dbl> & <dbl> & <chr> & <lgl>\\\\\n",
       "\\hline\n",
       "\\end{tabular}\n"
      ],
      "text/markdown": [
       "\n",
       "A data.frame: 0 × 8\n",
       "\n",
       "| cluster &lt;chr&gt; | status &lt;chr&gt; | loglr &lt;dbl&gt; | df &lt;int&gt; | p &lt;dbl&gt; | p.adjust &lt;dbl&gt; | genes &lt;chr&gt; | sig_bonf &lt;lgl&gt; |\n",
       "|---|---|---|---|---|---|---|---|\n",
       "\n"
      ],
      "text/plain": [
       "     cluster status loglr df p p.adjust genes sig_bonf"
      ]
     },
     "metadata": {},
     "output_type": "display_data"
    }
   ],
   "source": [
    "experiment = \"4_igaba_ctrl_3del\"\n",
    "cat(paste0(\" === Experiment: \",experiment,\" ===\\n\"))\n",
    "cat(\"Significantly differentially spliced clusters [NRXN1]:\\n\")\n",
    "sig = get_sig1(experiment)\n",
    "sig[which(sig$sig_bonf),]\n",
    "eff = get_eff(experiment,sig)\n",
    "cat(\"\\nTop introns in the most significant cluster:\\n\")\n",
    "head(eff[which(eff$clu==rownames(sig)[1]),],3)\n",
    "write.table(sig,paste0(experiment,\"_nrxn_clusters.tsv\"),col.names=TRUE,row.names=TRUE,sep=\"\\t\",quote=FALSE)\n",
    "write.table(eff,paste0(experiment,\"_nrxn_introns.tsv\"),col.names=TRUE,row.names=FALSE,sep=\"\\t\",quote=FALSE)\n",
    "cat(\"Significantly differentially spliced clusters [NRXN2/3]:\\n\")\n",
    "sig = get_sig23(experiment)\n",
    "sig[which(sig$sig_bonf),]"
   ]
  },
  {
   "cell_type": "code",
   "execution_count": 8,
   "id": "45af2a1c-b64a-47b6-a88d-10df9bd20dc6",
   "metadata": {},
   "outputs": [
    {
     "name": "stdout",
     "output_type": "stream",
     "text": [
      " === Experiment: 9_iglut_igaba_ctrls ===\n",
      "Significantly differentially spliced clusters [NRXN1]:\n"
     ]
    },
    {
     "data": {
      "text/html": [
       "<table class=\"dataframe\">\n",
       "<caption>A data.frame: 1 × 8</caption>\n",
       "<thead>\n",
       "\t<tr><th></th><th scope=col>cluster</th><th scope=col>status</th><th scope=col>loglr</th><th scope=col>df</th><th scope=col>p</th><th scope=col>p.adjust</th><th scope=col>genes</th><th scope=col>sig_bonf</th></tr>\n",
       "\t<tr><th></th><th scope=col>&lt;chr&gt;</th><th scope=col>&lt;chr&gt;</th><th scope=col>&lt;dbl&gt;</th><th scope=col>&lt;int&gt;</th><th scope=col>&lt;dbl&gt;</th><th scope=col>&lt;dbl&gt;</th><th scope=col>&lt;chr&gt;</th><th scope=col>&lt;lgl&gt;</th></tr>\n",
       "</thead>\n",
       "<tbody>\n",
       "\t<tr><th scope=row>clu_17086_-</th><td>chr2:clu_17086_-</td><td>Success</td><td>6.011609</td><td>2</td><td>0.002450142</td><td>0.01960114</td><td>NRXN1</td><td>TRUE</td></tr>\n",
       "</tbody>\n",
       "</table>\n"
      ],
      "text/latex": [
       "A data.frame: 1 × 8\n",
       "\\begin{tabular}{r|llllllll}\n",
       "  & cluster & status & loglr & df & p & p.adjust & genes & sig\\_bonf\\\\\n",
       "  & <chr> & <chr> & <dbl> & <int> & <dbl> & <dbl> & <chr> & <lgl>\\\\\n",
       "\\hline\n",
       "\tclu\\_17086\\_- & chr2:clu\\_17086\\_- & Success & 6.011609 & 2 & 0.002450142 & 0.01960114 & NRXN1 & TRUE\\\\\n",
       "\\end{tabular}\n"
      ],
      "text/markdown": [
       "\n",
       "A data.frame: 1 × 8\n",
       "\n",
       "| <!--/--> | cluster &lt;chr&gt; | status &lt;chr&gt; | loglr &lt;dbl&gt; | df &lt;int&gt; | p &lt;dbl&gt; | p.adjust &lt;dbl&gt; | genes &lt;chr&gt; | sig_bonf &lt;lgl&gt; |\n",
       "|---|---|---|---|---|---|---|---|---|\n",
       "| clu_17086_- | chr2:clu_17086_- | Success | 6.011609 | 2 | 0.002450142 | 0.01960114 | NRXN1 | TRUE |\n",
       "\n"
      ],
      "text/plain": [
       "            cluster          status  loglr    df p           p.adjust   genes\n",
       "clu_17086_- chr2:clu_17086_- Success 6.011609 2  0.002450142 0.01960114 NRXN1\n",
       "            sig_bonf\n",
       "clu_17086_- TRUE    "
      ]
     },
     "metadata": {},
     "output_type": "display_data"
    },
    {
     "name": "stdout",
     "output_type": "stream",
     "text": [
      "\n",
      "Top introns in the most significant cluster:\n"
     ]
    },
    {
     "data": {
      "text/html": [
       "<table class=\"dataframe\">\n",
       "<caption>A data.frame: 3 × 8</caption>\n",
       "<thead>\n",
       "\t<tr><th></th><th scope=col>intron</th><th scope=col>logef</th><th scope=col>iGLUT</th><th scope=col>iGABA</th><th scope=col>deltapsi</th><th scope=col>clu</th><th scope=col>clu_p.adjust</th><th scope=col>clu_sig_bonf</th></tr>\n",
       "\t<tr><th></th><th scope=col>&lt;chr&gt;</th><th scope=col>&lt;dbl&gt;</th><th scope=col>&lt;dbl&gt;</th><th scope=col>&lt;dbl&gt;</th><th scope=col>&lt;dbl&gt;</th><th scope=col>&lt;chr&gt;</th><th scope=col>&lt;dbl&gt;</th><th scope=col>&lt;lgl&gt;</th></tr>\n",
       "</thead>\n",
       "<tbody>\n",
       "\t<tr><th scope=row>56482</th><td>chr2:50506617:50531227:clu_17086_-</td><td> 1.1145656</td><td>0.06261672</td><td>0.2622680</td><td> 0.19965126</td><td>clu_17086_-</td><td>0.01960114</td><td>TRUE</td></tr>\n",
       "\t<tr><th scope=row>56481</th><td>chr2:50506617:50528625:clu_17086_-</td><td>-0.5571807</td><td>0.47931568</td><td>0.3772649</td><td>-0.10205080</td><td>clu_17086_-</td><td>0.01960114</td><td>TRUE</td></tr>\n",
       "\t<tr><th scope=row>56483</th><td>chr2:50528651:50531227:clu_17086_-</td><td>-0.5573848</td><td>0.45806760</td><td>0.3604671</td><td>-0.09760046</td><td>clu_17086_-</td><td>0.01960114</td><td>TRUE</td></tr>\n",
       "</tbody>\n",
       "</table>\n"
      ],
      "text/latex": [
       "A data.frame: 3 × 8\n",
       "\\begin{tabular}{r|llllllll}\n",
       "  & intron & logef & iGLUT & iGABA & deltapsi & clu & clu\\_p.adjust & clu\\_sig\\_bonf\\\\\n",
       "  & <chr> & <dbl> & <dbl> & <dbl> & <dbl> & <chr> & <dbl> & <lgl>\\\\\n",
       "\\hline\n",
       "\t56482 & chr2:50506617:50531227:clu\\_17086\\_- &  1.1145656 & 0.06261672 & 0.2622680 &  0.19965126 & clu\\_17086\\_- & 0.01960114 & TRUE\\\\\n",
       "\t56481 & chr2:50506617:50528625:clu\\_17086\\_- & -0.5571807 & 0.47931568 & 0.3772649 & -0.10205080 & clu\\_17086\\_- & 0.01960114 & TRUE\\\\\n",
       "\t56483 & chr2:50528651:50531227:clu\\_17086\\_- & -0.5573848 & 0.45806760 & 0.3604671 & -0.09760046 & clu\\_17086\\_- & 0.01960114 & TRUE\\\\\n",
       "\\end{tabular}\n"
      ],
      "text/markdown": [
       "\n",
       "A data.frame: 3 × 8\n",
       "\n",
       "| <!--/--> | intron &lt;chr&gt; | logef &lt;dbl&gt; | iGLUT &lt;dbl&gt; | iGABA &lt;dbl&gt; | deltapsi &lt;dbl&gt; | clu &lt;chr&gt; | clu_p.adjust &lt;dbl&gt; | clu_sig_bonf &lt;lgl&gt; |\n",
       "|---|---|---|---|---|---|---|---|---|\n",
       "| 56482 | chr2:50506617:50531227:clu_17086_- |  1.1145656 | 0.06261672 | 0.2622680 |  0.19965126 | clu_17086_- | 0.01960114 | TRUE |\n",
       "| 56481 | chr2:50506617:50528625:clu_17086_- | -0.5571807 | 0.47931568 | 0.3772649 | -0.10205080 | clu_17086_- | 0.01960114 | TRUE |\n",
       "| 56483 | chr2:50528651:50531227:clu_17086_- | -0.5573848 | 0.45806760 | 0.3604671 | -0.09760046 | clu_17086_- | 0.01960114 | TRUE |\n",
       "\n"
      ],
      "text/plain": [
       "      intron                             logef      iGLUT      iGABA    \n",
       "56482 chr2:50506617:50531227:clu_17086_-  1.1145656 0.06261672 0.2622680\n",
       "56481 chr2:50506617:50528625:clu_17086_- -0.5571807 0.47931568 0.3772649\n",
       "56483 chr2:50528651:50531227:clu_17086_- -0.5573848 0.45806760 0.3604671\n",
       "      deltapsi    clu         clu_p.adjust clu_sig_bonf\n",
       "56482  0.19965126 clu_17086_- 0.01960114   TRUE        \n",
       "56481 -0.10205080 clu_17086_- 0.01960114   TRUE        \n",
       "56483 -0.09760046 clu_17086_- 0.01960114   TRUE        "
      ]
     },
     "metadata": {},
     "output_type": "display_data"
    },
    {
     "name": "stdout",
     "output_type": "stream",
     "text": [
      "Significantly differentially spliced clusters [NRXN2/3]:\n"
     ]
    },
    {
     "data": {
      "text/html": [
       "<table class=\"dataframe\">\n",
       "<caption>A data.frame: 1 × 8</caption>\n",
       "<thead>\n",
       "\t<tr><th></th><th scope=col>cluster</th><th scope=col>status</th><th scope=col>loglr</th><th scope=col>df</th><th scope=col>p</th><th scope=col>p.adjust</th><th scope=col>genes</th><th scope=col>sig_bonf</th></tr>\n",
       "\t<tr><th></th><th scope=col>&lt;chr&gt;</th><th scope=col>&lt;chr&gt;</th><th scope=col>&lt;dbl&gt;</th><th scope=col>&lt;int&gt;</th><th scope=col>&lt;dbl&gt;</th><th scope=col>&lt;dbl&gt;</th><th scope=col>&lt;chr&gt;</th><th scope=col>&lt;lgl&gt;</th></tr>\n",
       "</thead>\n",
       "<tbody>\n",
       "\t<tr><th scope=row>clu_5113_-</th><td>chr11:clu_5113_-</td><td>Success</td><td>9.796865</td><td>4</td><td>0.0006005834</td><td>0.01020992</td><td>NRXN2</td><td>TRUE</td></tr>\n",
       "</tbody>\n",
       "</table>\n"
      ],
      "text/latex": [
       "A data.frame: 1 × 8\n",
       "\\begin{tabular}{r|llllllll}\n",
       "  & cluster & status & loglr & df & p & p.adjust & genes & sig\\_bonf\\\\\n",
       "  & <chr> & <chr> & <dbl> & <int> & <dbl> & <dbl> & <chr> & <lgl>\\\\\n",
       "\\hline\n",
       "\tclu\\_5113\\_- & chr11:clu\\_5113\\_- & Success & 9.796865 & 4 & 0.0006005834 & 0.01020992 & NRXN2 & TRUE\\\\\n",
       "\\end{tabular}\n"
      ],
      "text/markdown": [
       "\n",
       "A data.frame: 1 × 8\n",
       "\n",
       "| <!--/--> | cluster &lt;chr&gt; | status &lt;chr&gt; | loglr &lt;dbl&gt; | df &lt;int&gt; | p &lt;dbl&gt; | p.adjust &lt;dbl&gt; | genes &lt;chr&gt; | sig_bonf &lt;lgl&gt; |\n",
       "|---|---|---|---|---|---|---|---|---|\n",
       "| clu_5113_- | chr11:clu_5113_- | Success | 9.796865 | 4 | 0.0006005834 | 0.01020992 | NRXN2 | TRUE |\n",
       "\n"
      ],
      "text/plain": [
       "           cluster          status  loglr    df p            p.adjust   genes\n",
       "clu_5113_- chr11:clu_5113_- Success 9.796865 4  0.0006005834 0.01020992 NRXN2\n",
       "           sig_bonf\n",
       "clu_5113_- TRUE    "
      ]
     },
     "metadata": {},
     "output_type": "display_data"
    }
   ],
   "source": [
    "experiment = \"9_iglut_igaba_ctrls\"\n",
    "cat(paste0(\" === Experiment: \",experiment,\" ===\\n\"))\n",
    "cat(\"Significantly differentially spliced clusters [NRXN1]:\\n\")\n",
    "sig = get_sig1(experiment)\n",
    "sig[which(sig$sig_bonf),]\n",
    "eff = get_eff(experiment,sig)\n",
    "cat(\"\\nTop introns in the most significant cluster:\\n\")\n",
    "head(eff[which(eff$clu==rownames(sig)[1]),],3)\n",
    "write.table(sig,paste0(experiment,\"_nrxn_clusters.tsv\"),col.names=TRUE,row.names=TRUE,sep=\"\\t\",quote=FALSE)\n",
    "write.table(eff,paste0(experiment,\"_nrxn_introns.tsv\"),col.names=TRUE,row.names=FALSE,sep=\"\\t\",quote=FALSE)\n",
    "cat(\"Significantly differentially spliced clusters [NRXN2/3]:\\n\")\n",
    "sig = get_sig23(experiment)\n",
    "sig[which(sig$sig_bonf),]"
   ]
  }
 ],
 "metadata": {
  "kernelspec": {
   "display_name": "R",
   "language": "R",
   "name": "ir"
  },
  "language_info": {
   "codemirror_mode": "r",
   "file_extension": ".r",
   "mimetype": "text/x-r-source",
   "name": "R",
   "pygments_lexer": "r",
   "version": "4.3.3"
  }
 },
 "nbformat": 4,
 "nbformat_minor": 5
}
